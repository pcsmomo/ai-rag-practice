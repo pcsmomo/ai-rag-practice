{
 "cells": [
  {
   "cell_type": "markdown",
   "metadata": {},
   "source": [
    "# Content: [Using the ChatGPT API with LangChain](https://youtu.be/BLM3KDaOTJM?si=I3cOw3Om5fBzRFdY)\n",
    "\n",
    "## Related documents\n",
    "- [LangChain - Chat models](https://python.langchain.com/docs/integrations/chat/)\n",
    "- [LangChain - ChatOpenAI](https://python.langchain.com/docs/integrations/chat/openai/)"
   ]
  },
  {
   "cell_type": "code",
   "execution_count": 1,
   "metadata": {},
   "outputs": [],
   "source": [
    "#!pip install langchain\n",
    "#!pip install openai"
   ]
  },
  {
   "cell_type": "code",
   "execution_count": 2,
   "metadata": {},
   "outputs": [],
   "source": [
    "import os\n",
    "from dotenv import dotenv_values\n",
    "config = dotenv_values(\"../.env\")\n",
    "\n",
    "os.environ[\"OPENAI_API_KEY\"] = config[\"OPENAI_API_KEY\"]"
   ]
  },
  {
   "cell_type": "code",
   "execution_count": 3,
   "metadata": {},
   "outputs": [
    {
     "name": "stderr",
     "output_type": "stream",
     "text": [
      "/var/folders/zj/b894c2vs14l544n2qhkbs3k40000gn/T/ipykernel_25508/3201245310.py:3: LangChainDeprecationWarning: The class `ChatOpenAI` was deprecated in LangChain 0.0.10 and will be removed in 1.0. An updated version of the class exists in the :class:`~langchain-openai package and should be used instead. To use it run `pip install -U :class:`~langchain-openai` and import as `from :class:`~langchain_openai import ChatOpenAI``.\n",
      "  chatgpt = ChatOpenAI(model=\"gpt-4o-mini\")\n"
     ]
    }
   ],
   "source": [
    "\n",
    "from langchain.chat_models import ChatOpenAI\n",
    "\n",
    "chatgpt = ChatOpenAI(model=\"gpt-4o-mini\")\n",
    "\n",
    "result = chatgpt.invoke(\"Why python is the most popular programming?\")"
   ]
  },
  {
   "cell_type": "code",
   "execution_count": 5,
   "metadata": {},
   "outputs": [
    {
     "data": {
      "text/markdown": [
       "Python has gained immense popularity as a programming language for several reasons:\n",
       "\n",
       "1. **Ease of Learning and Use**: Python has a simple and readable syntax, which makes it accessible for beginners. Its design philosophy emphasizes code readability, which helps new programmers understand concepts quickly.\n",
       "\n",
       "2. **Versatility**: Python can be used in various domains, including web development, data analysis, artificial intelligence, machine learning, scientific computing, automation, and more. This versatility makes it a go-to language for many different fields.\n",
       "\n",
       "3. **Strong Community Support**: Python has a large and active community of developers who contribute to a wealth of libraries, frameworks, and resources. This support makes it easier for programmers to find solutions to problems and share knowledge.\n",
       "\n",
       "4. **Extensive Libraries and Frameworks**: Python boasts a wide range of libraries and frameworks (such as NumPy, Pandas, Django, Flask, TensorFlow, and PyTorch) that simplify complex tasks and speed up the development process, making it suitable for various applications.\n",
       "\n",
       "5. **Cross-Platform Compatibility**: Python is a cross-platform language, meaning it runs on various operating systems like Windows, macOS, and Linux. This flexibility allows developers to work in different environments without significant changes to their code.\n",
       "\n",
       "6. **Strong Industry Adoption**: Many organizations, from startups to large enterprises, use Python for their projects. Its strong presence in industries such as data science, web development, and automation has further cemented its popularity.\n",
       "\n",
       "7. **Integration Capabilities**: Python can easily integrate with other languages and technologies, making it a good choice for projects that require interaction with existing systems or applications.\n",
       "\n",
       "8. **Growing Demand for Data Science and AI**: The rise of data science, machine learning, and artificial intelligence has significantly boosted Python's popularity. It is often the preferred language for data analysis and AI development due to its powerful libraries and ease of use.\n",
       "\n",
       "9. **Educational Use**: Python is frequently used as a teaching language in computer science courses, which introduces many students to programming through Python. This early exposure contributes to its growing popularity.\n",
       "\n",
       "10. **Active Development and Innovation**: Python is continuously updated and improved, with new features and enhancements being added regularly. This keeps the language relevant and aligned with modern programming practices.\n",
       "\n",
       "These factors combined make Python an appealing choice for both new and experienced programmers, leading to its widespread adoption across various fields and industries."
      ],
      "text/plain": [
       "<IPython.core.display.Markdown object>"
      ]
     },
     "metadata": {},
     "output_type": "display_data"
    }
   ],
   "source": [
    "from IPython.display import Markdown, display\n",
    "\n",
    "display(Markdown(result.content))"
   ]
  },
  {
   "cell_type": "markdown",
   "metadata": {},
   "source": [
    "## Stream"
   ]
  },
  {
   "cell_type": "code",
   "execution_count": null,
   "metadata": {},
   "outputs": [],
   "source": []
  }
 ],
 "metadata": {
  "kernelspec": {
   "display_name": ".venv",
   "language": "python",
   "name": "python3"
  },
  "language_info": {
   "codemirror_mode": {
    "name": "ipython",
    "version": 3
   },
   "file_extension": ".py",
   "mimetype": "text/x-python",
   "name": "python",
   "nbconvert_exporter": "python",
   "pygments_lexer": "ipython3",
   "version": "3.12.5"
  }
 },
 "nbformat": 4,
 "nbformat_minor": 2
}
