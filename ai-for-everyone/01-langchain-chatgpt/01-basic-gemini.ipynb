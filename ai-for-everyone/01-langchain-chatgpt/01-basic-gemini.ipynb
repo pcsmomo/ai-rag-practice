{
 "cells": [
  {
   "cell_type": "markdown",
   "metadata": {},
   "source": [
    "# Content: [Using the ChatGPT API with LangChain](https://youtu.be/BLM3KDaOTJM?si=I3cOw3Om5fBzRFdY)\n",
    "\n",
    "## Related documents\n",
    "- [LangChain - Chat models](https://python.langchain.com/docs/integrations/chat/)\n",
    "- [LangChain - ChatGoogleGenerativeAI](https://python.langchain.com/docs/integrations/chat/google_generative_ai/)"
   ]
  },
  {
   "cell_type": "code",
   "execution_count": 1,
   "metadata": {},
   "outputs": [],
   "source": [
    "#!pip install langchain\n",
    "#!pip install openai"
   ]
  },
  {
   "cell_type": "code",
   "execution_count": 1,
   "metadata": {},
   "outputs": [],
   "source": [
    "import os\n",
    "from dotenv import dotenv_values\n",
    "config = dotenv_values(\"../.env\")\n",
    "\n",
    "os.environ[\"GOOGLE_API_KEY\"] = config[\"GOOGLE_API_KEY\"]"
   ]
  },
  {
   "cell_type": "code",
   "execution_count": 2,
   "metadata": {},
   "outputs": [],
   "source": [
    "\n",
    "from langchain_google_genai import ChatGoogleGenerativeAI\n",
    "\n",
    "llm = ChatGoogleGenerativeAI(model=\"gemini-2.0-flash\")\n",
    "\n",
    "ai_msg = llm.invoke(\"Why python is the most popular programming?\")"
   ]
  },
  {
   "cell_type": "code",
   "execution_count": 4,
   "metadata": {},
   "outputs": [
    {
     "data": {
      "text/markdown": [
       "Python's popularity is a multifaceted phenomenon, driven by a combination of factors that make it attractive to both beginners and experienced programmers. Here's a breakdown of the key reasons:\n",
       "\n",
       "**1. Readability and Simplicity:**\n",
       "\n",
       "*   **Clean Syntax:** Python's syntax emphasizes readability, using English-like keywords (e.g., `if`, `else`, `for`, `while`) and indentation to define code blocks. This makes the code easier to understand and maintain.\n",
       "*   **Gentle Learning Curve:**  Compared to languages like C++ or Java, Python's syntax is less verbose and has fewer complex rules. This makes it an excellent choice for beginners learning to program.\n",
       "*   **Focus on Logic, Not Boilerplate:** Python minimizes the amount of boilerplate code required to accomplish tasks. This allows developers to focus on the core logic of their programs.\n",
       "\n",
       "**2. Versatility and Wide Applicability:**\n",
       "\n",
       "*   **General-Purpose Language:** Python is not limited to a specific domain. It can be used for a wide range of applications, including:\n",
       "    *   **Web Development:** (Frameworks like Django and Flask)\n",
       "    *   **Data Science and Machine Learning:** (Libraries like NumPy, Pandas, Scikit-learn, TensorFlow, PyTorch)\n",
       "    *   **Scripting and Automation:**  (Automating tasks, system administration)\n",
       "    *   **Desktop Applications:** (Libraries like Tkinter, PyQt)\n",
       "    *   **Game Development:** (Libraries like Pygame)\n",
       "    *   **Scientific Computing:** (Libraries like SciPy)\n",
       "*   **Cross-Platform Compatibility:** Python runs on various operating systems (Windows, macOS, Linux) without requiring significant code modifications.\n",
       "\n",
       "**3. Extensive Libraries and Frameworks:**\n",
       "\n",
       "*   **\"Batteries Included\" Philosophy:** Python has a vast standard library that provides modules and functions for a wide variety of tasks. This reduces the need to write code from scratch for common operations.\n",
       "*   **Third-Party Packages (PyPI):** The Python Package Index (PyPI) is a massive repository of third-party packages that extend Python's capabilities.  Libraries like NumPy, Pandas, Django, and Flask are essential tools in their respective domains.\n",
       "*   **Active Community:**  The large and active Python community contributes significantly to the development and maintenance of these libraries and frameworks, ensuring they are up-to-date and well-supported.\n",
       "\n",
       "**4. Strong Community Support:**\n",
       "\n",
       "*   **Large and Active Community:** Python has a vibrant and supportive community of developers. This means there are plenty of resources available to help you learn, troubleshoot problems, and find solutions.\n",
       "*   **Extensive Documentation:** Python has excellent documentation that is comprehensive and well-maintained.\n",
       "*   **Online Forums and Communities:**  Platforms like Stack Overflow, Reddit (r/python), and various Python-specific forums provide a space for developers to ask questions, share knowledge, and collaborate.\n",
       "\n",
       "**5. Job Market Demand:**\n",
       "\n",
       "*   **High Demand in Various Industries:** The widespread adoption of Python in fields like data science, web development, and automation has led to a high demand for Python developers.\n",
       "*   **Competitive Salaries:**  The demand for Python developers translates to competitive salaries in many regions.\n",
       "*   **Career Opportunities:**  Learning Python opens doors to a wide range of career opportunities, including data scientist, web developer, software engineer, and automation engineer.\n",
       "\n",
       "**6. Open Source and Free:**\n",
       "\n",
       "*   **Open Source License:** Python is released under an open-source license, which means it is free to use, distribute, and modify. This encourages collaboration and innovation.\n",
       "*   **No Licensing Fees:**  There are no licensing fees associated with using Python, making it an attractive option for both individuals and organizations.\n",
       "\n",
       "**In summary, Python's popularity stems from its ease of use, versatility, extensive libraries, strong community support, and high demand in the job market.  It's a powerful and accessible language that empowers developers to build a wide range of applications.**"
      ],
      "text/plain": [
       "<IPython.core.display.Markdown object>"
      ]
     },
     "metadata": {},
     "output_type": "display_data"
    }
   ],
   "source": [
    "from IPython.display import Markdown, display\n",
    "\n",
    "display(Markdown(ai_msg.content))"
   ]
  },
  {
   "cell_type": "markdown",
   "metadata": {},
   "source": [
    "## Stream"
   ]
  },
  {
   "cell_type": "code",
   "execution_count": null,
   "metadata": {},
   "outputs": [],
   "source": []
  }
 ],
 "metadata": {
  "kernelspec": {
   "display_name": ".venv",
   "language": "python",
   "name": "python3"
  },
  "language_info": {
   "codemirror_mode": {
    "name": "ipython",
    "version": 3
   },
   "file_extension": ".py",
   "mimetype": "text/x-python",
   "name": "python",
   "nbconvert_exporter": "python",
   "pygments_lexer": "ipython3",
   "version": "3.12.5"
  }
 },
 "nbformat": 4,
 "nbformat_minor": 2
}
